{
 "cells": [
  {
   "cell_type": "markdown",
   "metadata": {
    "colab_type": "text",
    "id": "UJzkCATjB0J1"
   },
   "source": [
    "# Run Meshroom on Google Colab GPU instance\n",
    "\n",
    "*By Martin Lellep*\n",
    "\n",
    "*05/10/2020*\n",
    "\n",
    "* Full blog post: http://lellep.xyz/blog/how-to-use-3d-scanning-for-cad-modeling.html\n",
    "* Sources: https://github.com/alicevision/meshroom/wiki/Meshroom-in-Google-Colab-(cloud)"
   ]
  },
  {
   "cell_type": "markdown",
   "metadata": {
    "colab_type": "text",
    "id": "RhpcZpIxCh47"
   },
   "source": [
    "Check that you added a GPU to this Colab instance. Execute the following code to verify that the GPU was detected."
   ]
  },
  {
   "cell_type": "code",
   "execution_count": null,
   "metadata": {
    "colab": {
     "base_uri": "https://localhost:8080/",
     "height": 35
    },
    "colab_type": "code",
    "id": "6veJvp-XRqYe",
    "outputId": "2b2a515e-5815-42cc-dcde-b4ce02ca9a17"
   },
   "outputs": [],
   "source": [
    "import tensorflow as tf\n",
    "device_name = tf.test.gpu_device_name()\n",
    "if device_name != '/device:GPU:0':\n",
    "  raise SystemError('GPU device not found')\n",
    "print('Found GPU at: {}'.format(device_name))"
   ]
  },
  {
   "cell_type": "markdown",
   "metadata": {
    "colab_type": "text",
    "id": "8sdMa9nrDP_E"
   },
   "source": [
    "Click on the \"Files\" button on the menu to the left and upload a ZIP file called `my_dataset.zip` that contains all images that you want to use for the 3D scan.\n",
    "\n",
    "Let's unzip the uploaded `my_dataset.zip` file and move its content to a folder called `my_dataset/`."
   ]
  },
  {
   "cell_type": "code",
   "execution_count": null,
   "metadata": {
    "colab": {
     "base_uri": "https://localhost:8080/",
     "height": 990
    },
    "colab_type": "code",
    "id": "QbVAWO24RTXc",
    "outputId": "f2d65c21-c6e2-4fbe-dc1d-0c47988fb82b"
   },
   "outputs": [],
   "source": [
    "!unzip my_dataset.zip"
   ]
  },
  {
   "cell_type": "code",
   "execution_count": null,
   "metadata": {
    "colab": {},
    "colab_type": "code",
    "id": "hQBa2crHVlSk"
   },
   "outputs": [],
   "source": [
    "!mkdir my_dataset\n",
    "!mv *.jpg my_dataset/"
   ]
  },
  {
   "cell_type": "markdown",
   "metadata": {
    "colab_type": "text",
    "id": "8dOvfHLEQM5z"
   },
   "source": [
    "Subsequently, the *Meshroom* code is downloaded and unpacked."
   ]
  },
  {
   "cell_type": "code",
   "execution_count": null,
   "metadata": {
    "colab": {
     "base_uri": "https://localhost:8080/",
     "height": 331
    },
    "colab_type": "code",
    "id": "fKm2QNskVujc",
    "outputId": "296a450d-ac00-456d-f6c8-7eebc3e89a55"
   },
   "outputs": [],
   "source": [
    "!wget -N https://github.com/alicevision/meshroom/releases/download/v2019.1.0/Meshroom-2019.1.0-linux.tar.gz\n",
    "!mkdir meshroom\n",
    "!tar xzf Meshroom-2019.1.0-linux.tar.gz -C ./meshroom"
   ]
  },
  {
   "cell_type": "markdown",
   "metadata": {
    "colab_type": "text",
    "id": "ot8iQ0YYQY1u"
   },
   "source": [
    "Finally, the Meshroom CLI tool is invoked to execute the actual 3D scan based on the uploaded images. A folder called `object_out/` is created prior to the actual computation, which stores the 3D scan."
   ]
  },
  {
   "cell_type": "code",
   "execution_count": null,
   "metadata": {
    "colab": {
     "base_uri": "https://localhost:8080/",
     "height": 1000
    },
    "colab_type": "code",
    "id": "DoS4oCwnWARk",
    "outputId": "04a8c372-3fd3-4951-d2e3-3ff42faff2c3"
   },
   "outputs": [],
   "source": [
    "!mkdir -p ./object_out\n",
    "!./meshroom/Meshroom-2019.1.0/meshroom_photogrammetry --input ./my_dataset --output ./object_out"
   ]
  },
  {
   "cell_type": "markdown",
   "metadata": {
    "colab_type": "text",
    "id": "0EA9Lv3FQyMj"
   },
   "source": [
    "Lastly, the folder that contains the 3D scan is zipped into `out.zip`."
   ]
  },
  {
   "cell_type": "code",
   "execution_count": null,
   "metadata": {
    "colab": {
     "base_uri": "https://localhost:8080/",
     "height": 109
    },
    "colab_type": "code",
    "id": "ZIx8Qb_1qbdb",
    "outputId": "9f843de4-1b05-4984-805d-dbfb13c5f36b"
   },
   "outputs": [],
   "source": [
    "!zip -r out.zip ./object_out"
   ]
  },
  {
   "cell_type": "markdown",
   "metadata": {
    "colab_type": "text",
    "id": "BLMK10_hRGnJ"
   },
   "source": [
    "The ZIP containing the 3D scan can be found in the \"Files\" browser and is called `out.zip`.\n",
    "\n",
    "Go download it and use it for CAD modeling!"
   ]
  }
 ],
 "metadata": {
  "accelerator": "GPU",
  "colab": {
   "collapsed_sections": [],
   "name": "3D_scanning_colab_notebook.ipynb",
   "provenance": [],
   "toc_visible": true
  },
  "kernelspec": {
   "display_name": "Python 3",
   "language": "python",
   "name": "python3"
  },
  "language_info": {
   "codemirror_mode": {
    "name": "ipython",
    "version": 3
   },
   "file_extension": ".py",
   "mimetype": "text/x-python",
   "name": "python",
   "nbconvert_exporter": "python",
   "pygments_lexer": "ipython3",
   "version": "3.7.6"
  }
 },
 "nbformat": 4,
 "nbformat_minor": 1
}
